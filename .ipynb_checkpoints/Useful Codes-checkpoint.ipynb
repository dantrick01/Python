{
 "cells": [
  {
   "cell_type": "code",
   "execution_count": null,
   "metadata": {},
   "outputs": [],
   "source": [
    "def add1(a):\n",
    "    b = a+5\n",
    "    return b\n",
    "\n",
    "add1(10)"
   ]
  },
  {
   "cell_type": "code",
   "execution_count": null,
   "metadata": {},
   "outputs": [],
   "source": [
    "# Exceptions and Handlers"
   ]
  },
  {
   "cell_type": "code",
   "execution_count": null,
   "metadata": {},
   "outputs": [],
   "source": [
    "a = 1\n",
    "while(True):\n",
    "    try:\n",
    "        b = int(input(\"Please enter a number to divide a\"))\n",
    "        a = a/b\n",
    "        print(\"Success a=\",a)\n",
    "    except ZeroDivisionError:\n",
    "        print(\"The number you provided cant divide 1 because it is 0\")\n",
    "    except ValueError:\n",
    "        print(\"You did not provide a number\")\n",
    "    except:\n",
    "        print(\"Something went wrong\")\n",
    "    finally:\n",
    "        print(\"Next\")"
   ]
  },
  {
   "cell_type": "code",
   "execution_count": null,
   "metadata": {},
   "outputs": [],
   "source": [
    "# "
   ]
  }
 ],
 "metadata": {
  "kernelspec": {
   "display_name": "Python 3",
   "language": "python",
   "name": "python3"
  },
  "language_info": {
   "codemirror_mode": {
    "name": "ipython",
    "version": 3
   },
   "file_extension": ".py",
   "mimetype": "text/x-python",
   "name": "python",
   "nbconvert_exporter": "python",
   "pygments_lexer": "ipython3",
   "version": "3.8.5"
  }
 },
 "nbformat": 4,
 "nbformat_minor": 4
}
