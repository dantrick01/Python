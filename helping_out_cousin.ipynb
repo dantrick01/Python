{
 "cells": [
  {
   "cell_type": "code",
   "execution_count": 7,
   "metadata": {},
   "outputs": [
    {
     "name": "stdout",
     "output_type": "stream",
     "text": [
      "합이 3000을 넘을 때의 합의 값: 3003\n"
     ]
    }
   ],
   "source": [
    "def sumNum():\n",
    "    totalsum = 0\n",
    "    for i in range(1,101):\n",
    "        totalsum = totalsum + i\n",
    "        if(totalsum >3000): \n",
    "            return(totalsum)\n",
    "a = sumNum()\n",
    "print(\"합이 3000을 넘을 때의 합의 값:\",a)"
   ]
  },
  {
   "cell_type": "code",
   "execution_count": null,
   "metadata": {},
   "outputs": [],
   "source": []
  }
 ],
 "metadata": {
  "kernelspec": {
   "display_name": "Python 3",
   "language": "python",
   "name": "python3"
  },
  "language_info": {
   "codemirror_mode": {
    "name": "ipython",
    "version": 3
   },
   "file_extension": ".py",
   "mimetype": "text/x-python",
   "name": "python",
   "nbconvert_exporter": "python",
   "pygments_lexer": "ipython3",
   "version": "3.8.5"
  }
 },
 "nbformat": 4,
 "nbformat_minor": 4
}
